{
  "nbformat": 4,
  "nbformat_minor": 0,
  "metadata": {
    "colab": {
      "name": "Untitled3.ipynb",
      "provenance": []
    },
    "kernelspec": {
      "name": "python3",
      "display_name": "Python 3"
    },
    "language_info": {
      "name": "python"
    }
  },
  "cells": [
    {
      "cell_type": "code",
      "execution_count": null,
      "metadata": {
        "id": "4ceJ96kjq9Qh"
      },
      "outputs": [],
      "source": [
        "import json\n",
        "with open('/content/Afatinib.json') as json_file:\n",
        "    Afatinib= json.load(json_file)"
      ]
    },
    {
      "cell_type": "code",
      "source": [
        "with open('/content/Bicalutamide.json') as json_file:\n",
        "    Bicalutamide= json.load(json_file)"
      ],
      "metadata": {
        "id": "puorFz77rNpu"
      },
      "execution_count": null,
      "outputs": []
    },
    {
      "cell_type": "code",
      "source": [
        "with open('/content/Carmustine.json') as json_file:\n",
        "    Carmustine= json.load(json_file)"
      ],
      "metadata": {
        "id": "mvsIYW4_rQ8q"
      },
      "execution_count": null,
      "outputs": []
    },
    {
      "cell_type": "code",
      "source": [
        "##drug_food\n",
        "def drug_food(dicta):\n",
        "  dictb={}\n",
        "  for item in dicta['Record']['Section']:\n",
        "    if item['TOCHeading']=='Biomolecular Interactions and Pathways':\n",
        "      return item\n",
        "    else:\n",
        "      continue\n",
        "  return dictb"
      ],
      "metadata": {
        "id": "OhqligqxrTm3"
      },
      "execution_count": null,
      "outputs": []
    },
    {
      "cell_type": "code",
      "source": [
        "drug_food(Bicalutamide)['Section'][-1]['Information'][0]['Value']['StringWithMarkup'][1]['String']"
      ],
      "metadata": {
        "colab": {
          "base_uri": "https://localhost:8080/",
          "height": 36
        },
        "id": "L-3Tso1Yr-qk",
        "outputId": "f66c47c9-6582-44b6-b961-705fa29881e8"
      },
      "execution_count": null,
      "outputs": [
        {
          "output_type": "execute_result",
          "data": {
            "text/plain": [
              "'Take with or without food. Food does not significantly affect absorption.'"
            ],
            "application/vnd.google.colaboratory.intrinsic+json": {
              "type": "string"
            }
          },
          "metadata": {},
          "execution_count": 19
        }
      ]
    },
    {
      "cell_type": "code",
      "source": [
        "def drug_food_inter(dicta):\n",
        "  if 'Section' in dicta:\n",
        "    for item in dicta['Section']:\n",
        "      if item['TOCHeading']=='Drug-Food Interactions':\n",
        "        lista=[]\n",
        "        for item1 in item['Information'][0]['Value']['StringWithMarkup']:\n",
        "          lista.append(item1['String'])\n",
        "        return (lista)\n",
        "      else:\n",
        "        continue  \n",
        "    return 'nil'\n",
        "  return 'nil'"
      ],
      "metadata": {
        "id": "I4SVWPf4sE3j"
      },
      "execution_count": null,
      "outputs": []
    },
    {
      "cell_type": "code",
      "source": [
        "print(drug_food_inter(drug_food(Bicalutamide)))"
      ],
      "metadata": {
        "colab": {
          "base_uri": "https://localhost:8080/"
        },
        "id": "4TGijDtowuVE",
        "outputId": "cf180243-0236-4d12-886e-72cf538a0a7d"
      },
      "execution_count": null,
      "outputs": [
        {
          "output_type": "stream",
          "name": "stdout",
          "text": [
            "['Take at the same time every day.', 'Take with or without food. Food does not significantly affect absorption.']\n"
          ]
        }
      ]
    },
    {
      "cell_type": "code",
      "source": [
        ""
      ],
      "metadata": {
        "id": "z5a_w9SPwy-x"
      },
      "execution_count": null,
      "outputs": []
    }
  ]
}