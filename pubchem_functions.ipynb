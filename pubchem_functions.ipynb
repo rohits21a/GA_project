{
  "cells": [
    {
      "cell_type": "markdown",
      "source": [
        "\n",
        "##importing Files\n",
        "\n"
      ],
      "metadata": {
        "id": "PSTUXiuyxwU-"
      }
    },
    {
      "cell_type": "code",
      "execution_count": null,
      "metadata": {
        "id": "UX3VQjRUzQqV"
      },
      "outputs": [],
      "source": [
        "with open('/content/Abiraterone acetate.json') as json_file:\n",
        "    Abiraterone_acetate= json.load(json_file)"
      ]
    },
    {
      "cell_type": "code",
      "execution_count": null,
      "metadata": {
        "id": "WHIMLlqfzQui"
      },
      "outputs": [],
      "source": [
        "with open('/content/Acalabrutinib.json') as json_file:\n",
        "    Acalabrutinib= json.load(json_file)"
      ]
    },
    {
      "cell_type": "code",
      "execution_count": null,
      "metadata": {
        "id": "MdU4XtXCzQxU"
      },
      "outputs": [],
      "source": [
        "with open('/content/Afatinib.json') as json_file:\n",
        "    Afatinib= json.load(json_file)"
      ]
    },
    {
      "cell_type": "code",
      "execution_count": null,
      "metadata": {
        "id": "q2O7nIWNzQ1c"
      },
      "outputs": [],
      "source": [
        "with open('/content/Apalutamide.json') as json_file:\n",
        "    Apalutamide= json.load(json_file)"
      ]
    },
    {
      "cell_type": "code",
      "execution_count": null,
      "metadata": {
        "id": "0RZz-tQBzQ4L"
      },
      "outputs": [],
      "source": [
        "with open('/content/Alpelisib.json') as json_file:\n",
        "    Alpelisib= json.load(json_file)"
      ]
    },
    {
      "cell_type": "code",
      "execution_count": null,
      "metadata": {
        "id": "sbh0jQQuzQ8d"
      },
      "outputs": [],
      "source": [
        "with open('/content/Asciminib hydrochloride.json') as json_file:\n",
        "    Asciminib_hydrochloride= json.load(json_file)"
      ]
    },
    {
      "cell_type": "code",
      "execution_count": null,
      "metadata": {
        "id": "k11CEAbGzRA4"
      },
      "outputs": [],
      "source": [
        "with open('/content/Avapritinib.json') as json_file:\n",
        "    Avapritinib= json.load(json_file)"
      ]
    },
    {
      "cell_type": "code",
      "execution_count": null,
      "metadata": {
        "id": "cEzD8G0XzRDX"
      },
      "outputs": [],
      "source": [
        "with open('/content/Axitinib.json') as json_file:\n",
        "    Axitinib= json.load(json_file)"
      ]
    },
    {
      "cell_type": "code",
      "execution_count": null,
      "metadata": {
        "id": "jh4WROB9zRFw"
      },
      "outputs": [],
      "source": [
        "with open('/content/Belinostat.json') as json_file:\n",
        "    Belinostat= json.load(json_file)"
      ]
    },
    {
      "cell_type": "code",
      "execution_count": null,
      "metadata": {
        "id": "VemasLcqCWa1"
      },
      "outputs": [],
      "source": [
        "with open('/content/Bicalutamide.json') as json_file:\n",
        "    Bicalutamide= json.load(json_file)"
      ]
    },
    {
      "cell_type": "code",
      "execution_count": null,
      "metadata": {
        "id": "m2xu4yoCzRIg"
      },
      "outputs": [],
      "source": [
        "with open('/content/Belzutifan.json') as json_file:\n",
        "    Belzutifan= json.load(json_file)"
      ]
    },
    {
      "cell_type": "code",
      "execution_count": null,
      "metadata": {
        "id": "4IpsyvbKzRLZ"
      },
      "outputs": [],
      "source": [
        "with open('/content/Belzutifan.json') as json_file:\n",
        "    Belzutifan= json.load(json_file)"
      ]
    },
    {
      "cell_type": "code",
      "execution_count": null,
      "metadata": {
        "id": "nY-Yc5fIzROf"
      },
      "outputs": [],
      "source": [
        "with open('/content/Binimetinib.json') as json_file:\n",
        "    Binimetinib= json.load(json_file)"
      ]
    },
    {
      "cell_type": "code",
      "execution_count": null,
      "metadata": {
        "id": "FI6wR8HSzRQs"
      },
      "outputs": [],
      "source": [
        "with open('/content/Bosutinib.json') as json_file:\n",
        "    Bosutinib= json.load(json_file)"
      ]
    },
    {
      "cell_type": "code",
      "execution_count": null,
      "metadata": {
        "id": "xPg27_uxzRTu"
      },
      "outputs": [],
      "source": [
        "with open('/content/Brigatinib.json') as json_file:\n",
        "    Brigatinib= json.load(json_file)"
      ]
    },
    {
      "cell_type": "code",
      "execution_count": null,
      "metadata": {
        "id": "XGhUExGyzRVy"
      },
      "outputs": [],
      "source": [
        "with open('/content/Cabazitaxel.json') as json_file:\n",
        "    Cabazitaxel= json.load(json_file)"
      ]
    },
    {
      "cell_type": "code",
      "execution_count": null,
      "metadata": {
        "id": "kWGj3owDzRYU"
      },
      "outputs": [],
      "source": [
        "with open('/content/Cabozantinib S-malate.json') as json_file:\n",
        "    Cabozantinib_S_malate= json.load(json_file)"
      ]
    },
    {
      "cell_type": "code",
      "execution_count": null,
      "metadata": {
        "id": "cqanWH1xzRay"
      },
      "outputs": [],
      "source": [
        "with open('/content/Cabozantinib.json') as json_file:\n",
        "    Cabozantinib= json.load(json_file)"
      ]
    },
    {
      "cell_type": "code",
      "execution_count": null,
      "metadata": {
        "id": "XBDF8F4VzRdl"
      },
      "outputs": [],
      "source": [
        "with open('/content/Capmatinib.json') as json_file:\n",
        "    Capmatinib= json.load(json_file)"
      ]
    },
    {
      "cell_type": "code",
      "execution_count": null,
      "metadata": {
        "id": "llC0rzg_zRgO"
      },
      "outputs": [],
      "source": [
        "with open('/content/Carfilzomib.json') as json_file:\n",
        "    Carfilzomib= json.load(json_file)"
      ]
    },
    {
      "cell_type": "code",
      "execution_count": null,
      "metadata": {
        "id": "6HGKJDt4zRif"
      },
      "outputs": [],
      "source": [
        "with open('/content/Carmustine.json') as json_file:\n",
        "    Carmustine= json.load(json_file)"
      ]
    },
    {
      "cell_type": "code",
      "execution_count": null,
      "metadata": {
        "id": "YBCZXhnvzRks"
      },
      "outputs": [],
      "source": [
        "with open('/content/Cedazuridine.json') as json_file:\n",
        "    Cedazuridine= json.load(json_file)"
      ]
    },
    {
      "cell_type": "code",
      "execution_count": null,
      "metadata": {
        "id": "ly1jA9TXzRr5"
      },
      "outputs": [],
      "source": [
        "with open('/content/Ceritinib.json') as json_file:\n",
        "    Ceritinib= json.load(json_file)"
      ]
    },
    {
      "cell_type": "code",
      "execution_count": null,
      "metadata": {
        "id": "Se0MM1TMzRuM"
      },
      "outputs": [],
      "source": [
        "with open('/content/Cobimetinib.json') as json_file:\n",
        "    Cobimetinib= json.load(json_file)"
      ]
    },
    {
      "cell_type": "code",
      "execution_count": null,
      "metadata": {
        "id": "6mF1mcm8zRws"
      },
      "outputs": [],
      "source": [
        "with open('/content/Copanlisib.json') as json_file:\n",
        "    Copanlisib= json.load(json_file)"
      ]
    },
    {
      "cell_type": "code",
      "execution_count": null,
      "metadata": {
        "id": "qd3HzivQ2_K6"
      },
      "outputs": [],
      "source": [
        "with open('/content/Crizotinib.json') as json_file:\n",
        "    Crizotinib= json.load(json_file)"
      ]
    },
    {
      "cell_type": "code",
      "execution_count": null,
      "metadata": {
        "id": "rRLx7s3E2_Ng"
      },
      "outputs": [],
      "source": [
        "with open('/content/Dabrafenib.json') as json_file:\n",
        "    Dabrafenib= json.load(json_file)"
      ]
    },
    {
      "cell_type": "code",
      "execution_count": null,
      "metadata": {
        "id": "wA7tVoGG2_Py"
      },
      "outputs": [],
      "source": [
        "with open('/content/Dacomitinib.json') as json_file:\n",
        "    Dacomitinib= json.load(json_file)"
      ]
    },
    {
      "cell_type": "code",
      "execution_count": null,
      "metadata": {
        "id": "m1LETbJM2_R4"
      },
      "outputs": [],
      "source": [
        "with open('/content/Darolutamide.json') as json_file:\n",
        "    Darolutamide= json.load(json_file)"
      ]
    },
    {
      "cell_type": "code",
      "execution_count": null,
      "metadata": {
        "id": "1f-vVCgA2_UH"
      },
      "outputs": [],
      "source": [
        "with open('/content/Dasatinib.json') as json_file:\n",
        "    Dasatinib= json.load(json_file)"
      ]
    },
    {
      "cell_type": "code",
      "execution_count": null,
      "metadata": {
        "id": "9bCpDnP82_Yk"
      },
      "outputs": [],
      "source": [
        "with open('/content/Decitabine.json') as json_file:\n",
        "    Decitabine= json.load(json_file)"
      ]
    },
    {
      "cell_type": "code",
      "execution_count": null,
      "metadata": {
        "id": "Ui2yWrek2_bT"
      },
      "outputs": [],
      "source": [
        "with open('/content/Dotatate lutenium Lu-177.json') as json_file:\n",
        "    Dotatate_lutenium_Lu_177= json.load(json_file)"
      ]
    },
    {
      "cell_type": "code",
      "execution_count": null,
      "metadata": {
        "id": "5I4dSJNQ2_d0"
      },
      "outputs": [],
      "source": [
        "with open('/content/Duvelisib.json') as json_file:\n",
        "    Duvelisib= json.load(json_file)"
      ]
    },
    {
      "cell_type": "code",
      "execution_count": null,
      "metadata": {
        "id": "EoiBEIAQ2_gU"
      },
      "outputs": [],
      "source": [
        "with open('/content/Enasidenib mesylate.json') as json_file:\n",
        "    Enasidenib_mesylate= json.load(json_file)"
      ]
    },
    {
      "cell_type": "code",
      "execution_count": null,
      "metadata": {
        "id": "ZuHGm_cY2_kh"
      },
      "outputs": [],
      "source": [
        "\n",
        "with open('/content/Entrectinib.json') as json_file:\n",
        "    Entrectinib= json.load(json_file)"
      ]
    },
    {
      "cell_type": "code",
      "execution_count": null,
      "metadata": {
        "id": "TFee5EGG2_nX"
      },
      "outputs": [],
      "source": [
        "with open('/content/Encorafenib.json') as json_file:\n",
        "    Encorafenib= json.load(json_file)"
      ]
    },
    {
      "cell_type": "code",
      "execution_count": null,
      "metadata": {
        "id": "UAQgrM3_2_ph"
      },
      "outputs": [],
      "source": [
        "with open('/content/Enzalutamide.json') as json_file:\n",
        "    Enzalutamide= json.load(json_file)"
      ]
    },
    {
      "cell_type": "code",
      "execution_count": null,
      "metadata": {
        "id": "aI3L8knb2_r_"
      },
      "outputs": [],
      "source": [
        "with open('/content/Erdafitinib.json') as json_file:\n",
        "    Erdafitinib= json.load(json_file)"
      ]
    },
    {
      "cell_type": "code",
      "execution_count": null,
      "metadata": {
        "id": "jT3XnYLu2_uh"
      },
      "outputs": [],
      "source": [
        "with open('/content/Eribulin mesylate.json') as json_file:\n",
        "    Eribulin_mesylate= json.load(json_file)"
      ]
    },
    {
      "cell_type": "code",
      "execution_count": null,
      "metadata": {
        "id": "AIWSoXAX2_w7"
      },
      "outputs": [],
      "source": [
        "with open('/content/Everolimus.json') as json_file:\n",
        "    Everolimus= json.load(json_file)"
      ]
    },
    {
      "cell_type": "code",
      "execution_count": null,
      "metadata": {
        "id": "eF4mo7-y2_zW"
      },
      "outputs": [],
      "source": [
        "\n",
        "\n",
        "with open('/content/Fedratinib.json') as json_file:\n",
        "    Fedratinib= json.load(json_file)"
      ]
    },
    {
      "cell_type": "code",
      "execution_count": null,
      "metadata": {
        "id": "sfZdkXAr2_13"
      },
      "outputs": [],
      "source": [
        "with open('/content/Gilteritinib.json') as json_file:\n",
        "    Gilteritinib= json.load(json_file)"
      ]
    },
    {
      "cell_type": "code",
      "execution_count": null,
      "metadata": {
        "id": "QpEm9EAy2_3z"
      },
      "outputs": [],
      "source": [
        "\n",
        "with open('/content/Glasdegib.json') as json_file:\n",
        "    Glasdegib= json.load(json_file)"
      ]
    },
    {
      "cell_type": "code",
      "execution_count": null,
      "metadata": {
        "id": "RJ_osIzo2_6P"
      },
      "outputs": [],
      "source": [
        "\n",
        "with open('/content/Ibrutinib.json') as json_file:\n",
        "    Ibrutinib= json.load(json_file)"
      ]
    },
    {
      "cell_type": "code",
      "execution_count": null,
      "metadata": {
        "id": "Pgf1zdYw2_8Y"
      },
      "outputs": [],
      "source": [
        "with open('/content/Idelalisib.json') as json_file:\n",
        "    Idelalisib= json.load(json_file)"
      ]
    },
    {
      "cell_type": "code",
      "execution_count": null,
      "metadata": {
        "id": "v8RUEQ132_-y"
      },
      "outputs": [],
      "source": [
        "with open('/content/Indoximod.json') as json_file:\n",
        "    Indoximod= json.load(json_file)"
      ]
    },
    {
      "cell_type": "code",
      "execution_count": null,
      "metadata": {
        "id": "72r7FfCD3AC0"
      },
      "outputs": [],
      "source": [
        "with open('/content/Infigratinib.json') as json_file:\n",
        "    Infigratinib= json.load(json_file)"
      ]
    },
    {
      "cell_type": "code",
      "execution_count": null,
      "metadata": {
        "id": "pn1lqEo13AH4"
      },
      "outputs": [],
      "source": [
        "with open('/content/Istodax.json') as json_file:\n",
        "    Istodax= json.load(json_file)"
      ]
    },
    {
      "cell_type": "code",
      "execution_count": null,
      "metadata": {
        "id": "na6rLtIi3AKS"
      },
      "outputs": [],
      "source": [
        "with open('/content/Ivosidenib.json') as json_file:\n",
        "    Ivosidenib= json.load(json_file)"
      ]
    },
    {
      "cell_type": "code",
      "execution_count": null,
      "metadata": {
        "id": "Rmo5j5mW3AOr"
      },
      "outputs": [],
      "source": [
        "with open('/content/Ixabepilone.json') as json_file:\n",
        "    Ixabepilone= json.load(json_file)"
      ]
    },
    {
      "cell_type": "code",
      "execution_count": null,
      "metadata": {
        "id": "7t87FCtB58_R"
      },
      "outputs": [],
      "source": [
        "with open('/content/Ixazomib citrate.json') as json_file:\n",
        "    Ixazomib_citrate= json.load(json_file)"
      ]
    },
    {
      "cell_type": "code",
      "execution_count": null,
      "metadata": {
        "id": "Ih13qG0159Bq"
      },
      "outputs": [],
      "source": [
        "with open('/content/Lanreotide.json') as json_file:\n",
        "    Lanreotide= json.load(json_file)"
      ]
    },
    {
      "cell_type": "code",
      "execution_count": null,
      "metadata": {
        "id": "H3e2rur359D0"
      },
      "outputs": [],
      "source": [
        "with open('/content/Lapatinib Ditosylate.json') as json_file:\n",
        "    Lapatinib_Ditosylate= json.load(json_file)"
      ]
    },
    {
      "cell_type": "code",
      "execution_count": null,
      "metadata": {
        "id": "U2yac00o59GJ"
      },
      "outputs": [],
      "source": [
        "with open('/content/Lapatinib.json') as json_file:\n",
        "    Lapatinib= json.load(json_file)"
      ]
    },
    {
      "cell_type": "code",
      "execution_count": null,
      "metadata": {
        "id": "hxD5XSxS59IQ"
      },
      "outputs": [],
      "source": [
        "with open('/content/Larotrectinib sulfate.json') as json_file:\n",
        "    Larotrectinib_sulfate= json.load(json_file)"
      ]
    },
    {
      "cell_type": "code",
      "execution_count": null,
      "metadata": {
        "id": "JfbKTGkM59KQ"
      },
      "outputs": [],
      "source": [
        "with open('/content/Larotrectinib.json') as json_file:\n",
        "    Larotrectinib= json.load(json_file)"
      ]
    },
    {
      "cell_type": "code",
      "execution_count": null,
      "metadata": {
        "id": "bWz69QWO59My"
      },
      "outputs": [],
      "source": [
        "with open('/content/Lenalidomide.json') as json_file:\n",
        "    Lenalidomide= json.load(json_file)"
      ]
    },
    {
      "cell_type": "code",
      "execution_count": null,
      "metadata": {
        "id": "1qIC_iEn59PP"
      },
      "outputs": [],
      "source": [
        "with open('/content/Lenvatinib.json') as json_file:\n",
        "    Lenvatinib= json.load(json_file)"
      ]
    },
    {
      "cell_type": "code",
      "execution_count": null,
      "metadata": {
        "id": "teVSSG1K59TM"
      },
      "outputs": [],
      "source": [
        "with open('/content/Leuprolide acetate.json') as json_file:\n",
        "    Leuprolide_acetate= json.load(json_file)"
      ]
    },
    {
      "cell_type": "code",
      "execution_count": null,
      "metadata": {
        "id": "iCItJ_4l59Vf"
      },
      "outputs": [],
      "source": [
        "with open('/content/Lorlatinib.json') as json_file:\n",
        "    Lorlatinib= json.load(json_file)"
      ]
    },
    {
      "cell_type": "code",
      "execution_count": null,
      "metadata": {
        "id": "UUboIiAj59X0"
      },
      "outputs": [],
      "source": [
        "with open('/content/Lurbinectedin.json') as json_file:\n",
        "    Lurbinectedin= json.load(json_file)"
      ]
    },
    {
      "cell_type": "code",
      "execution_count": null,
      "metadata": {
        "id": "pCR6SQ6r59aa"
      },
      "outputs": [],
      "source": [
        "with open('/content/Midostaurin.json') as json_file:\n",
        "    Midostaurin= json.load(json_file)"
      ]
    },
    {
      "cell_type": "code",
      "execution_count": null,
      "metadata": {
        "id": "k_lb4utj59ci"
      },
      "outputs": [],
      "source": [
        "with open('/content/Mobocertinib.json') as json_file:\n",
        "    Mobocertinib= json.load(json_file)"
      ]
    },
    {
      "cell_type": "code",
      "execution_count": null,
      "metadata": {
        "id": "DdSAaJ2C59ez"
      },
      "outputs": [],
      "source": [
        "with open('/content/Nelarabine.json') as json_file:\n",
        "    Nelarabine= json.load(json_file)"
      ]
    },
    {
      "cell_type": "code",
      "execution_count": null,
      "metadata": {
        "id": "2_5u6u8I59hH"
      },
      "outputs": [],
      "source": [
        "with open('/content/Neratinib.json') as json_file:\n",
        "    Neratinib= json.load(json_file)"
      ]
    },
    {
      "cell_type": "code",
      "execution_count": null,
      "metadata": {
        "id": "JLS2d4K759jw"
      },
      "outputs": [],
      "source": [
        "with open('/content/Nilotinib.json') as json_file:\n",
        "    Nilotinib= json.load(json_file)"
      ]
    },
    {
      "cell_type": "code",
      "execution_count": null,
      "metadata": {
        "id": "_zLvyzWD59mG"
      },
      "outputs": [],
      "source": [
        "with open('/content/Niraparib.json') as json_file:\n",
        "    Niraparib= json.load(json_file)"
      ]
    },
    {
      "cell_type": "code",
      "execution_count": null,
      "metadata": {
        "id": "sED980mX59o7"
      },
      "outputs": [],
      "source": [
        "with open('/content/Olaparib.json') as json_file:\n",
        "    Olaparib= json.load(json_file)"
      ]
    },
    {
      "cell_type": "code",
      "execution_count": null,
      "metadata": {
        "id": "sAgC7CQP59qn"
      },
      "outputs": [],
      "source": [
        "with open('/content/Osimertinib.json') as json_file:\n",
        "    Osimertinib= json.load(json_file)"
      ]
    },
    {
      "cell_type": "code",
      "execution_count": null,
      "metadata": {
        "id": "YJ68VQoZ59sx"
      },
      "outputs": [],
      "source": [
        "with open('/content/PSMA-617 Lu-177.json') as json_file:\n",
        "    PSMA_617_Lu_177= json.load(json_file)"
      ]
    },
    {
      "cell_type": "code",
      "execution_count": null,
      "metadata": {
        "id": "PYJZUtGq59vN"
      },
      "outputs": [],
      "source": [
        "with open('/content/Palbociclib.json') as json_file:\n",
        "    Palbociclib= json.load(json_file)"
      ]
    },
    {
      "cell_type": "code",
      "execution_count": null,
      "metadata": {
        "id": "ROdyAe42590S"
      },
      "outputs": [],
      "source": [
        "with open('/content/Pazopanib hydrochloride.json') as json_file:\n",
        "    Pazopanib_hydrochloride= json.load(json_file)"
      ]
    },
    {
      "cell_type": "code",
      "execution_count": null,
      "metadata": {
        "id": "E-DEWp5B5916"
      },
      "outputs": [],
      "source": [
        "with open('/content/Pemigatinib.json') as json_file:\n",
        "    Pemigatinib= json.load(json_file)"
      ]
    },
    {
      "cell_type": "code",
      "execution_count": null,
      "metadata": {
        "id": "4tnPc8e9594Q"
      },
      "outputs": [],
      "source": [
        "with open('/content/Pexidartinib.json') as json_file:\n",
        "    Pexidartinib= json.load(json_file)"
      ]
    },
    {
      "cell_type": "code",
      "execution_count": null,
      "metadata": {
        "id": "NUDeQyLc597Z"
      },
      "outputs": [],
      "source": [
        "with open('/content/Plerixafor.json') as json_file:\n",
        "    Plerixafor= json.load(json_file)"
      ]
    },
    {
      "cell_type": "code",
      "execution_count": null,
      "metadata": {
        "id": "7I61s82v599X"
      },
      "outputs": [],
      "source": [
        "with open('/content/Pomalidomide.json') as json_file:\n",
        "    Pomalidomide= json.load(json_file)"
      ]
    },
    {
      "cell_type": "code",
      "execution_count": null,
      "metadata": {
        "id": "0uqbYxM059_v"
      },
      "outputs": [],
      "source": [
        "with open('/content/Ponatinib hydrochloride.json') as json_file:\n",
        "    Ponatinib_hydrochloride= json.load(json_file)"
      ]
    },
    {
      "cell_type": "code",
      "execution_count": null,
      "metadata": {
        "id": "UObA-Drq5-CL"
      },
      "outputs": [],
      "source": [
        "with open('/content/Ponatinib.json') as json_file:\n",
        "    Ponatinib= json.load(json_file)"
      ]
    },
    {
      "cell_type": "code",
      "execution_count": null,
      "metadata": {
        "id": "SHDT4MOX5-Ek"
      },
      "outputs": [],
      "source": [
        "with open('/content/Pralatrexate.json') as json_file:\n",
        "    Pralatrexate= json.load(json_file)"
      ]
    },
    {
      "cell_type": "code",
      "execution_count": null,
      "metadata": {
        "id": "S3YcDDMF5-GI"
      },
      "outputs": [],
      "source": [
        "with open('/content/Pralsetinib.json') as json_file:\n",
        "    Pralsetinib= json.load(json_file)"
      ]
    },
    {
      "cell_type": "code",
      "execution_count": null,
      "metadata": {
        "id": "v8GFQI7j99Bv"
      },
      "outputs": [],
      "source": [
        "with open('/content/Regorafenib.json') as json_file:\n",
        "    Regorafenib= json.load(json_file)"
      ]
    },
    {
      "cell_type": "code",
      "execution_count": null,
      "metadata": {
        "id": "Q2H2pQAK99ER"
      },
      "outputs": [],
      "source": [
        "with open('/content/Ribociclib.json') as json_file:\n",
        "    Ribociclib= json.load(json_file)"
      ]
    },
    {
      "cell_type": "code",
      "execution_count": null,
      "metadata": {
        "id": "DWi2zQL599HA"
      },
      "outputs": [],
      "source": [
        "with open('/content/Ripretinib.json') as json_file:\n",
        "    Ripretinib= json.load(json_file)"
      ]
    },
    {
      "cell_type": "code",
      "execution_count": null,
      "metadata": {
        "id": "YeKj1pi799Ju"
      },
      "outputs": [],
      "source": [
        "with open('/content/Ropeginterferon-alfa-2b.json') as json_file:\n",
        "    Ropeginterferon_alfa_2b= json.load(json_file)"
      ]
    },
    {
      "cell_type": "code",
      "execution_count": null,
      "metadata": {
        "id": "7fecaAql99Me"
      },
      "outputs": [],
      "source": [
        "with open('/content/Rucaparib camsylate.json') as json_file:\n",
        "    Rucaparib_camsylate= json.load(json_file)"
      ]
    },
    {
      "cell_type": "code",
      "execution_count": null,
      "metadata": {
        "id": "SlNDUQj-99Ob"
      },
      "outputs": [],
      "source": [
        "with open('/content/Rucaparib.json') as json_file:\n",
        "    Rucaparib= json.load(json_file)"
      ]
    },
    {
      "cell_type": "code",
      "execution_count": null,
      "metadata": {
        "id": "aDR2jgc799RF"
      },
      "outputs": [],
      "source": [
        "with open('/content/Ruxolitinib.json') as json_file:\n",
        "    Ruxolitinib= json.load(json_file)"
      ]
    },
    {
      "cell_type": "code",
      "execution_count": null,
      "metadata": {
        "id": "6PmPSpIC99Tq"
      },
      "outputs": [],
      "source": [
        "with open('/content/Sacituzumab govitecan.json') as json_file:\n",
        "    Sacituzumab_govitecan= json.load(json_file)"
      ]
    },
    {
      "cell_type": "code",
      "execution_count": null,
      "metadata": {
        "id": "8kqZCjX099WC"
      },
      "outputs": [],
      "source": [
        "with open('/content/Selinexor.json') as json_file:\n",
        "    Selinexor= json.load(json_file)"
      ]
    },
    {
      "cell_type": "code",
      "execution_count": null,
      "metadata": {
        "id": "zZNHg4Tt99Ya"
      },
      "outputs": [],
      "source": [
        "with open('/content/Selpercatinib.json') as json_file:\n",
        "    Selpercatinib= json.load(json_file)"
      ]
    },
    {
      "cell_type": "code",
      "execution_count": null,
      "metadata": {
        "id": "iT5cBj2Y99bB"
      },
      "outputs": [],
      "source": [
        "with open('/content/Selumetinib sulfate.json') as json_file:\n",
        "    Selumetinib_sulfate= json.load(json_file)"
      ]
    },
    {
      "cell_type": "code",
      "execution_count": null,
      "metadata": {
        "id": "NvdjfA9U99dg"
      },
      "outputs": [],
      "source": [
        "with open('/content/Sonidegib.json') as json_file:\n",
        "    Sonidegib= json.load(json_file)"
      ]
    },
    {
      "cell_type": "code",
      "execution_count": null,
      "metadata": {
        "id": "RYAioduv99gV"
      },
      "outputs": [],
      "source": [
        "with open('/content/Sorafenib.json') as json_file:\n",
        "    Sorafenib= json.load(json_file)"
      ]
    },
    {
      "cell_type": "code",
      "execution_count": null,
      "metadata": {
        "id": "ToWo-Q0o99iV"
      },
      "outputs": [],
      "source": [
        "with open('/content/Sunitinib malate.json') as json_file:\n",
        "    Sunitinib_malate= json.load(json_file)"
      ]
    },
    {
      "cell_type": "code",
      "execution_count": null,
      "metadata": {
        "id": "0U5PSaC899ko"
      },
      "outputs": [],
      "source": [
        "with open('/content/Sunitinib.json') as json_file:\n",
        "    Sunitinib= json.load(json_file)"
      ]
    },
    {
      "cell_type": "code",
      "execution_count": null,
      "metadata": {
        "id": "wAyD3GLz3AQz"
      },
      "outputs": [],
      "source": [
        "with open('/content/Talazoparib.json') as json_file:\n",
        "    Talazoparib= json.load(json_file)"
      ]
    },
    {
      "cell_type": "code",
      "execution_count": null,
      "metadata": {
        "id": "4I75bJPv_SkE"
      },
      "outputs": [],
      "source": [
        "with open('/content/Tazemetostat hydrobromide.json') as json_file:\n",
        "    Tazemetostat_hydrobromide= json.load(json_file)"
      ]
    },
    {
      "cell_type": "code",
      "execution_count": null,
      "metadata": {
        "id": "QMb27Jot_Sl_"
      },
      "outputs": [],
      "source": [
        "with open('/content/Tepotinib.json') as json_file:\n",
        "    Tepotinib= json.load(json_file)"
      ]
    },
    {
      "cell_type": "code",
      "execution_count": null,
      "metadata": {
        "id": "YKHWs7uI_SoR"
      },
      "outputs": [],
      "source": [
        "with open('/content/Tepotinib Hydrochloride Hydrate.json') as json_file:\n",
        "    Tepotinib_Hydrochloride_Hydrate= json.load(json_file)"
      ]
    },
    {
      "cell_type": "code",
      "execution_count": null,
      "metadata": {
        "id": "nZ0MwZ64_Sqh"
      },
      "outputs": [],
      "source": [
        "with open('/content/Temsirolimus.json') as json_file:\n",
        "    Temsirolimus= json.load(json_file)"
      ]
    },
    {
      "cell_type": "code",
      "execution_count": null,
      "metadata": {
        "id": "eL2P1f3u_Stc"
      },
      "outputs": [],
      "source": [
        "with open('/content/Tivozanib.json') as json_file:\n",
        "    Tivozanib= json.load(json_file)"
      ]
    },
    {
      "cell_type": "code",
      "execution_count": null,
      "metadata": {
        "id": "Li7lXPm7_SvS"
      },
      "outputs": [],
      "source": [
        "with open('/content/Trabectedin.json') as json_file:\n",
        "    Trabectedin= json.load(json_file)"
      ]
    },
    {
      "cell_type": "code",
      "execution_count": null,
      "metadata": {
        "id": "PehO-SAi_Sxe"
      },
      "outputs": [],
      "source": [
        "with open('/content/Trametinib.json') as json_file:\n",
        "    Trametinib= json.load(json_file)"
      ]
    },
    {
      "cell_type": "code",
      "execution_count": null,
      "metadata": {
        "id": "jK93fjDm_S0c"
      },
      "outputs": [],
      "source": [
        "with open('/content/Trilaciclib.json') as json_file:\n",
        "    Trilaciclib= json.load(json_file)"
      ]
    },
    {
      "cell_type": "code",
      "execution_count": null,
      "metadata": {
        "id": "nTT4tRrC_S2S"
      },
      "outputs": [],
      "source": [
        "with open('/content/Tucatinib.json') as json_file:\n",
        "    Tucatinib= json.load(json_file)"
      ]
    },
    {
      "cell_type": "code",
      "execution_count": null,
      "metadata": {
        "id": "M4ypCDbE_S41"
      },
      "outputs": [],
      "source": [
        "with open('/content/Umbralisib tosylate.json') as json_file:\n",
        "    Umbralisib_tosylate= json.load(json_file)"
      ]
    },
    {
      "cell_type": "code",
      "execution_count": null,
      "metadata": {
        "id": "bZJwK2Sv_S7M"
      },
      "outputs": [],
      "source": [
        "with open('/content/Pacritinib citrate.json') as json_file:\n",
        "    Pacritinib_Citrate= json.load(json_file)"
      ]
    },
    {
      "cell_type": "code",
      "execution_count": null,
      "metadata": {
        "id": "STsw2jGa_S9v"
      },
      "outputs": [],
      "source": [
        "with open('/content/Vandetanib.json') as json_file:\n",
        "    Vandetanib= json.load(json_file)"
      ]
    },
    {
      "cell_type": "code",
      "execution_count": null,
      "metadata": {
        "id": "G6p-gjqq_TAL"
      },
      "outputs": [],
      "source": [
        "with open('/content/Vemurafenib.json') as json_file:\n",
        "    Vemurafenib= json.load(json_file)"
      ]
    },
    {
      "cell_type": "code",
      "execution_count": null,
      "metadata": {
        "id": "0dkJM-YS_TC9"
      },
      "outputs": [],
      "source": [
        "with open('/content/Venetoclax.json') as json_file:\n",
        "    Venetoclax= json.load(json_file)"
      ]
    },
    {
      "cell_type": "code",
      "execution_count": null,
      "metadata": {
        "id": "ujd7KyExDaKk"
      },
      "outputs": [],
      "source": [
        "with open('/content/Vismodegib.json') as json_file:\n",
        "    Vismodegib= json.load(json_file)"
      ]
    },
    {
      "cell_type": "code",
      "execution_count": null,
      "metadata": {
        "id": "Ktp86gjSDaRK"
      },
      "outputs": [],
      "source": [
        "with open('/content/Zanubrutinib.json') as json_file:\n",
        "    Zanubrutinib= json.load(json_file)"
      ]
    },
    {
      "cell_type": "code",
      "execution_count": null,
      "metadata": {
        "id": "NSf4OWv_DaYH"
      },
      "outputs": [],
      "source": [
        "lista=[Alectinib,Abemaciclib,Abiraterone_acetate,Acalabrutinib,Afatinib,Apalutamide,Alpelisib,Asciminib_hydrochloride,Avapritinib,Axitinib,Belinostat,Bicalutamide,Belzutifan,Binimetinib,Bosutinib,Brigatinib,Cabazitaxel,Cabozantinib_S_malate,Cabozantinib,Capmatinib,Carfilzomib,Carmustine,Cedazuridine,Ceritinib,Cobimetinib,Copanlisib,Crizotinib,Dabrafenib,Dacomitinib,Darolutamide,Dasatinib,Decitabine,Dotatate_lutenium_Lu_177,Duvelisib,Enasidenib_mesylate,Entrectinib,Encorafenib,Enzalutamide,Erdafitinib,Eribulin_mesylate,Everolimus,Fedratinib,Gilteritinib,Glasdegib,Ibrutinib,Idelalisib,Indoximod,Infigratinib,Istodax,Ivosidenib,Ixabepilone,Ixazomib_citrate,Lanreotide,Lapatinib_Ditosylate,Lapatinib,Larotrectinib_sulfate,Larotrectinib,Lenalidomide,Lenvatinib,Leuprolide_acetate,Lorlatinib,Lurbinectedin,Midostaurin,Mobocertinib,Nelarabine,Neratinib,Nilotinib,Niraparib,Olaparib,Osimertinib,PSMA_617_Lu_177,Pacritinib_Citrate,Palbociclib,Pazopanib_hydrochloride,Pemigatinib,Pexidartinib,Plerixafor,Pomalidomide,Ponatinib_hydrochloride,Ponatinib,Pralatrexate,Pralsetinib,Regorafenib,Ribociclib,Ripretinib,Ropeginterferon_alfa_2b,Rucaparib_camsylate,Rucaparib,Ruxolitinib,Sacituzumab_govitecan,Selinexor,Selpercatinib,Selumetinib_sulfate,Sonidegib,Sorafenib,Sunitinib_malate,Sunitinib,Talazoparib,Tazemetostat_hydrobromide,Tepotinib,Tepotinib_Hydrochloride_Hydrate,Temsirolimus,Tivozanib,Trabectedin,Trametinib,Trilaciclib,Tucatinib,Umbralisib_tosylate,Pacritinib_Citrate,Vandetanib,Vemurafenib,Venetoclax,Vismodegib,Zanubrutinib]"
      ]
    },
    {
      "cell_type": "code",
      "execution_count": null,
      "metadata": {
        "colab": {
          "base_uri": "https://localhost:8080/"
        },
        "id": "dhStg4df_THF",
        "outputId": "697239ed-f25a-4a0e-fd20-3e4c4eac7750"
      },
      "outputs": [
        {
          "output_type": "execute_result",
          "data": {
            "text/plain": [
              "114"
            ]
          },
          "metadata": {},
          "execution_count": 116
        }
      ],
      "source": [
        "len(lista)"
      ]
    },
    {
      "cell_type": "code",
      "execution_count": null,
      "metadata": {
        "id": "BBZ9n0_rAk1f"
      },
      "outputs": [],
      "source": [
        "def Drug_medication(dicta):\n",
        "  for i in range(len(dicta[\"Record\"]['Section'])):\n",
        "    if dicta[\"Record\"]['Section'][i]['TOCHeading']=='Drug and Medication Information':\n",
        "      return dicta[\"Record\"]['Section'][i]\n",
        "\n",
        "\n"
      ]
    },
    {
      "cell_type": "code",
      "execution_count": null,
      "metadata": {
        "id": "5TVNalJo1szS"
      },
      "outputs": [],
      "source": [
        "from collections import defaultdict\n",
        "data_dict = defaultdict(list)"
      ]
    },
    {
      "cell_type": "markdown",
      "metadata": {
        "id": "sNJgb8GY8JOd"
      },
      "source": [
        "##DRUG & MEDICATION\n"
      ]
    },
    {
      "cell_type": "code",
      "execution_count": null,
      "metadata": {
        "id": "s6sGGmxJOrxl"
      },
      "outputs": [],
      "source": [
        "##import\n",
        "from collections import defaultdict\n",
        "data_dict = defaultdict(list)\n",
        "import numpy as np\n",
        "import pandas as pd\n",
        "\n",
        "##drug_and_medication\n",
        "def Drug_medication(dicta):\n",
        "  dictb={}\n",
        "  for i in range(len(dicta[\"Record\"]['Section'])):\n",
        "    if dicta[\"Record\"]['Section'][i]['TOCHeading']=='Drug and Medication Information':\n",
        "      return dicta[\"Record\"]['Section'][i]\n",
        "\n",
        "\n",
        "##drug_indication\n",
        "def drug_indication(dicta):\n",
        "  lista=[]\n",
        "  listb=[]\n",
        "  for item in dicta['Section'][0]['Information']:\n",
        "    if len(item['Value']['StringWithMarkup'])==1:\n",
        "      if item['Value']['StringWithMarkup'][0]['String']!='FDA Label':\n",
        "        lista.append(item['Value']['StringWithMarkup'][0]['String'])\n",
        "\n",
        "    else:\n",
        "      for i in range(len(item['Value']['StringWithMarkup'])):\n",
        "        listb.append(item['Value']['StringWithMarkup'][i]['String'])\n",
        "\n",
        "  return ','.join(lista+listb)\n",
        "\n",
        "##liverTox_summary\n",
        "def Liver_Tox_Summary(dicta):\n",
        "  if dicta['Section'][1]['TOCHeading']=='LiverTox Summary':\n",
        "    return dicta['Section'][1]['Information'][0]['Value']['StringWithMarkup'][0]['String']\n",
        "  else:\n",
        "      return 'nil'\n",
        "\n",
        "##Drug_Classes\n",
        "def Drug_Classes(dicta):\n",
        "  if dicta['Section'][2]['TOCHeading']=='Drug Classes':\n",
        "    return dicta['Section'][2]['Information'][0]['Value']['StringWithMarkup'][0]['String']\n",
        "  else:\n",
        "    return 'nil'\n",
        "  \n",
        "\n",
        "##drug_lactation\n",
        "def drug_lac(dicta):\n",
        "  for item in dicta['Section']:\n",
        "    if item['TOCHeading']=='Drug Effects during Lactation':\n",
        "      return item['Information'][0]['Value']['StringWithMarkup'][0]['String']\n",
        "    else:\n",
        "      continue\n",
        "    return 'nil'\n",
        "  \n",
        "\n",
        "##theraputic_uses\n",
        "def theraputic_uses(dicta): \n",
        "  for item in dicta['Section']:\n",
        "    if item['TOCHeading']=='Therapeutic Uses':\n",
        "      lista=[]\n",
        "      for item1 in item['Information']:\n",
        "        lista.append(item1['Value']['StringWithMarkup'][0]['String'])\n",
        "      return ''.join(lista)\n",
        "    else:\n",
        "      continue\n",
        "  return 'nil'\n",
        "  \n",
        "\n",
        "##drug_warnings\n",
        "def drug_warnings(dicta):\n",
        "  for item in dicta['Section']:\n",
        "    if item['TOCHeading']=='Drug Warnings':\n",
        "      lista=[]\n",
        "      for item1 in item['Information']:\n",
        "        lista.append(item1['Value']['StringWithMarkup'][0]['String'])\n",
        "      return ''.join(lista)\n",
        "    else:\n",
        "      continue\n",
        "  return 'nil'\n",
        "  \n",
        "  \n",
        "##drug_tolerence\n",
        "def drug_tolerence(dicta):\n",
        "  for item in dicta['Section']:\n",
        "    if item['TOCHeading']=='Drug Tolerance':\n",
        "      lista=[]\n",
        "      for item1 in item['Information']:\n",
        "        lista.append(item1['Value']['StringWithMarkup'][0]['String'])\n",
        "      return ''.join(lista)\n",
        "    else:\n",
        "      continue\n",
        "  return 'nil'\n",
        "  \n",
        "\n",
        "\n",
        "##EMA_DRUG_INFO\n",
        "def Ema_drug_info(dicta):\n",
        "  for item in dicta['Section']:\n",
        "    if  item['TOCHeading']=='EMA Drug Information':\n",
        "      data_dict = defaultdict(list)\n",
        "      for item1 in item['Information']:\n",
        "        data_dict[item1['Name']].append(item1['Value']['StringWithMarkup'][0]['String'])\n",
        "      return dict(data_dict)\n",
        "    else:\n",
        "      continue\n",
        "  return 'nil'\n",
        "  \n",
        "\n",
        "    \n",
        "\n"
      ]
    },
    {
      "cell_type": "markdown",
      "metadata": {
        "id": "I4JM5RcW8XRG"
      },
      "source": [
        "##PHARMACOLOGY AND BIOCHEMISTRY"
      ]
    },
    {
      "cell_type": "code",
      "execution_count": null,
      "metadata": {
        "id": "U2O0Mu5n8e1O"
      },
      "outputs": [],
      "source": [
        "def pharma_bio(dicta):\n",
        "  dictb={}\n",
        "  for i in range(len(dicta[\"Record\"]['Section'])):\n",
        "    if dicta[\"Record\"]['Section'][i]['TOCHeading']=='Pharmacology and Biochemistry':\n",
        "      return dicta[\"Record\"]['Section'][i]\n",
        "\n",
        "    \n",
        "\n",
        "\n",
        "##Pharmacology\n",
        "def Pharmacology (dicta):\n",
        "  for item in dicta['Section']:\n",
        "    if item['TOCHeading']=='Pharmacology':\n",
        "      lista=[]\n",
        "      for item1 in item['Information']:\n",
        "        lista.append(item1['Value']['StringWithMarkup'][0]['String'])\n",
        "      return ''.join(lista)\n",
        "    else:\n",
        "      continue\n",
        "    return 'nil'\n",
        "\n",
        "##MeSH_Pharmacological_Classification\n",
        "def  MeSH_Pharmacological_Classification(dicta):\n",
        "  for item in dicta['Section']:\n",
        "    if item['TOCHeading']=='MeSH Pharmacological Classification':\n",
        "      lama={}\n",
        "      for item1 in item['Information']:\n",
        "        lama[item1['Name']]=item1['Value']['StringWithMarkup'][0]['String']\n",
        "      return lama\n",
        "    else:\n",
        "      continue\n",
        "  return 'nil'\n",
        "\n",
        "## ATC_code\n",
        "def ATC_CODE(dicta):\n",
        "    for item in dicta['Section']:\n",
        "      if item['TOCHeading']=='ATC Code':\n",
        "        return item['Information'][0]['Value']['StringWithMarkup'][0]['String']\n",
        "    return 'nil' \n",
        "    \n",
        "\n",
        "##biological_half_life\n",
        "def BIO_LIFE(dicta):\n",
        "    for item in dicta['Section']:\n",
        "      if item['TOCHeading']=='Biological Half-Life':\n",
        "        lista=[]\n",
        "        for item1 in item['Information']:\n",
        "          lista.append(item1['Value']['StringWithMarkup'][0]['String'])\n",
        "        return ''.join(lista)\n",
        "      else:\n",
        "        continue\n",
        "    return 'nil'\n",
        "\n",
        "##Mechanism_of_Action\n",
        "def Mechanism_of_Action(dicta):\n",
        "  for item in dicta['Section']:\n",
        "    if item['TOCHeading']=='Mechanism of Action':\n",
        "      lista=[]\n",
        "      for item1 in item['Information']:\n",
        "         lista.append(item1['Value']['StringWithMarkup'][0]['String'])\n",
        "      return ''.join(lista)\n",
        "    else:\n",
        "      continue\n",
        "  return 'nil'\n",
        "\n",
        "##Metabolism/Metabolites\n",
        "def Metabolism_Metabolites(dicta):\n",
        "  for item in dicta['Section']:\n",
        "    if item['TOCHeading']=='Metabolism/Metabolites':\n",
        "      lista=[]\n",
        "      for item1 in item['Information']:\n",
        "         lista.append(item1['Value']['StringWithMarkup'][0]['String'])\n",
        "      return ''.join(lista)\n",
        "    else:\n",
        "      continue\n",
        "  return 'nil'\n",
        "\n",
        "\n",
        "\n",
        "\n",
        "\n",
        "\n",
        "  "
      ]
    },
    {
      "cell_type": "code",
      "execution_count": null,
      "metadata": {
        "id": "FvJtO8ObQM65"
      },
      "outputs": [],
      "source": [
        ""
      ]
    },
    {
      "cell_type": "code",
      "execution_count": null,
      "metadata": {
        "id": "Dn--LF0mQM9J"
      },
      "outputs": [],
      "source": [
        ""
      ]
    },
    {
      "cell_type": "code",
      "execution_count": null,
      "metadata": {
        "id": "R6Cn5brJQNBl"
      },
      "outputs": [],
      "source": [
        ""
      ]
    },
    {
      "cell_type": "code",
      "execution_count": null,
      "metadata": {
        "id": "0L2B_Zv1QNEb"
      },
      "outputs": [],
      "source": [
        ""
      ]
    },
    {
      "cell_type": "markdown",
      "metadata": {
        "id": "MgYWYFWtQxhy"
      },
      "source": [
        "##Toxicological Information\n"
      ]
    },
    {
      "cell_type": "code",
      "execution_count": null,
      "metadata": {
        "id": "bwI1-2ioRW-D"
      },
      "outputs": [],
      "source": [
        "##Toxological Information\n",
        "def Toxicity(dicta):\n",
        "  dictb={}\n",
        "  for item in dicta['Record']['Section']:\n",
        "    if item['TOCHeading']=='Toxicity':\n",
        "      for item1 in item['Section']: \n",
        "        if item1['TOCHeading']=='Toxicological Information':\n",
        "          return item1\n",
        "        else:\n",
        "            return dictb\n",
        "  return dictb\n",
        "       \n",
        "\n",
        "##Toxicity Summary\n",
        "def Toxicity_summary(dicta):\n",
        "  if 'Section' in dicta:\n",
        "    for item in dicta['Section']:\n",
        "      if item['TOCHeading']=='Toxicity Summary':\n",
        "        lista=[]\n",
        "        for item1 in item['Information']:\n",
        "          if 'StringWithMarkup' in item1['Value']:\n",
        "            lista.append(item1['Value']['StringWithMarkup'][0]['String'])\n",
        "        return ''.join(lista)\n",
        "      else:\n",
        "        continue\n",
        "  return 'nil'\n",
        "\n",
        "##Hepatoxicity\n",
        "def Hepatotoxicity(dicta):\n",
        "  if 'Section' in dicta:\n",
        "    for item in dicta['Section']:\n",
        "      if item['TOCHeading']=='Hepatotoxicity':\n",
        "        lista=[]\n",
        "        listb=[]\n",
        "        for item1 in item['Information']:\n",
        "          if 'StringWithMarkup' in item1['Value']:\n",
        "            lista.append(item1['Value']['StringWithMarkup'][0]['String'])\n",
        "            listb.append(item1['Value']['StringWithMarkup'][1]['String'])\n",
        "        return ''.join(lista+listb)\n",
        "      else:\n",
        "        continue\n",
        "  return 'nil'\n",
        "\n",
        "##Human Toxicity Excerpts\n",
        "def Human_Toxicity_Excerpts(dicta):\n",
        "  if 'Section' in dicta:\n",
        "    for item in dicta['Section']:\n",
        "      if item['TOCHeading']=='Human Toxicity Excerpts':\n",
        "        lista=[]\n",
        "        for item1 in item['Information']:\n",
        "          if 'StringWithMarkup' in item1['Value']:\n",
        "            lista.append(item1['Value']['StringWithMarkup'][0]['String'])\n",
        "        return ''.join(lista)\n",
        "      else:\n",
        "        continue\n",
        "  return 'nil'\n",
        "\n",
        "##Protein Binding\n",
        "def Protein_Binding(dicta):\n",
        "  if 'Section' in dicta:\n",
        "    for item in dicta['Section']:\n",
        "      if item['TOCHeading']=='Protein Binding':\n",
        "        lista=[]\n",
        "        for item1 in item['Information']:\n",
        "          if 'StringWithMarkup' in item1['Value']:\n",
        "            return item['Information'][0]['Value']['StringWithMarkup'][0]['String']\n",
        "  return 'nil'\n",
        "\n",
        "\n",
        "##Interactions\n",
        "def Interactions(dicta):\n",
        "  if 'Section' in dicta:\n",
        "    for item in dicta['Section']:\n",
        "      if item['TOCHeading']=='Interactions':\n",
        "        lista=[]\n",
        "        for item1 in item['Information']:\n",
        "          if 'StringWithMarkup' in item1['Value']:\n",
        "            lista.append(item1['Value']['StringWithMarkup'][0]['String'])\n",
        "        return ''.join(lista)\n",
        "      else:\n",
        "        continue\n",
        "  return 'nil'\n",
        "\n",
        "\n",
        "##Antidote_and_Emergency_Treatment\n",
        "def Antidote_and_Emergency_Treatment(dicta):\n",
        "  if 'Section' in dicta:\n",
        "    for item in dicta['Section']:\n",
        "      if item['TOCHeading']=='Antidote and Emergency Treatment':\n",
        "        lista=[]\n",
        "        for item1 in item['Information']:\n",
        "          if 'StringWithMarkup' in item1['Value']:\n",
        "            lista.append(item1['Value']['StringWithMarkup'][0]['String'])\n",
        "          return ''.join(lista)\n",
        "        else:\n",
        "          continue\n",
        "  return 'nil'\n",
        "\n",
        "##Medical_Surveillance\n",
        "def Medical_Surveillance(dicta):\n",
        "  if 'Section' in dicta:\n",
        "    for item in dicta['Section']:\n",
        "      if item['TOCHeading']=='Medical Surveillance':\n",
        "        lista=[]\n",
        "        for item1 in item['Information']:\n",
        "          if 'StringWithMarkup' in item1['Value']:\n",
        "            lista.append(item1['Value']['StringWithMarkup'][0]['String'])\n",
        "          return ''.join(lista)\n",
        "        else:\n",
        "          continue\n",
        "  return 'nil'\n",
        "\n",
        "##Antidote_and_Emergency_Treatment\n",
        "def Antidote_and_Emergency_Treatment(dicta):\n",
        "  if 'Section' in dicta:\n",
        "    for item in dicta['Section']:\n",
        "      if item['TOCHeading']=='Antidote and Emergency Treatment':\n",
        "        lista=[]\n",
        "        for item1 in item['Information']:\n",
        "          if 'StringWithMarkup' in item1['Value']:\n",
        "            lista.append(item1['Value']['StringWithMarkup'][0]['String'])\n",
        "          return ''.join(lista)\n",
        "        else:\n",
        "          continue\n",
        "  return 'nil'\n",
        "\n",
        "##Populations_at_Special_Risk\n",
        "def Populations_at_Special_Risk(dicta):\n",
        "  if 'Section' in dicta:\n",
        "    for item in dicta['Section']:\n",
        "      if item['TOCHeading']=='Populations at Special Risk':\n",
        "        lista=[]\n",
        "        for item1 in item['Information']:\n",
        "          if 'StringWithMarkup' in item1['Value']:\n",
        "            lista.append(item1['Value']['StringWithMarkup'][0]['String'])\n",
        "          return ''.join(lista)\n",
        "        else:\n",
        "          continue\n",
        "  return 'nil'\n",
        "\n",
        "##Drug_Induced_Liver_Injury\n",
        "def Drug_Induced_Liver_Injury_1(dicta):\n",
        "  if 'Section' in dicta:\n",
        "    for item in dicta['Section']:\n",
        "      if item['TOCHeading']=='Drug Induced Liver Injury':\n",
        "        lama={}\n",
        "        for item1 in item['Information']:\n",
        "          if 'StringWithMarkup' in item1['Value']:\n",
        "            lama[item1['Name']]=item1['Value']['StringWithMarkup'][0]['String']\n",
        "          else:\n",
        "            continue\n",
        "        return lama\n",
        "  return 'nil'\n",
        "\n",
        "##Drug_Induced_Liver_Injury\n",
        "def Drug_Induced_Liver_Injury_2(dicta):\n",
        "  if 'Section' in dicta:\n",
        "    for item in dicta['Section']:\n",
        "      if  item['TOCHeading']=='Drug Induced Liver Injury':\n",
        "        data_dict = defaultdict(list)\n",
        "        for item1 in item['Information']:\n",
        "          if 'StringWithMarkup' in item1['Value']:\n",
        "            data_dict[item1['Name']].append(' AND '.join([item2['String'] for item2 in item1['Value']['StringWithMarkup']]))\n",
        "          else:\n",
        "            continue\n",
        "        return dict(data_dict)\n",
        "  return 'nil'\n",
        "\n",
        "\n",
        "\n",
        "\n",
        "\n",
        "\n",
        "  \n"
      ]
    },
    {
      "cell_type": "code",
      "source": [
        "##creating dataframe\n",
        "details_1={\n",
        "    'name':[item['Record']['RecordTitle'] for item in  lista],\n",
        "    'Pharmacology':[Pharmacology(pharma_bio(item )) for item in lista],\n",
        "    'MeSH_Pharmacological_Classification':[MeSH_Pharmacological_Classification(pharma_bio(item )) for item in lista],\n",
        "    'ATC_CODE':[ATC_CODE(pharma_bio(item )) for item in lista],\n",
        "    'BIO_LIFE':[BIO_LIFE(pharma_bio(item )) for item in lista],\n",
        "    'Mechanism_of_Action':[Mechanism_of_Action(pharma_bio(item )) for item in lista],\n",
        "    'Metabolism_Metabolites':[Metabolism_Metabolites(pharma_bio(item )) for item in lista]\n",
        "    \n",
        "   \n",
        "\n",
        "}"
      ],
      "metadata": {
        "id": "Ajn84itLTuO9"
      },
      "execution_count": null,
      "outputs": []
    },
    {
      "cell_type": "code",
      "source": [
        "df_1 = pd.DataFrame(details_1)"
      ],
      "metadata": {
        "id": "gxub1EuKG3OB"
      },
      "execution_count": null,
      "outputs": []
    },
    {
      "cell_type": "code",
      "source": [
        ""
      ],
      "metadata": {
        "id": "zXA7lk0yHQt9"
      },
      "execution_count": null,
      "outputs": []
    },
    {
      "cell_type": "code",
      "source": [
        ""
      ],
      "metadata": {
        "id": "4y7EMr5ZHQwU"
      },
      "execution_count": null,
      "outputs": []
    },
    {
      "cell_type": "code",
      "source": [
        "details_2={\n",
        "    'name':[item['Record']['RecordTitle'] for item in  lista],\n",
        "    'drug_indication':[drug_indication(Drug_medication(item )) for item in lista],\n",
        "    'LiverTox Summary':[Liver_Tox_Summary(Drug_medication(item )) for item in lista],\n",
        "    'drug_lac':[drug_lac(Drug_medication(item )) for item in lista],\n",
        "    'drug_class':[Drug_Classes(Drug_medication(item )) for item in lista],\n",
        "    'theraputic_uses':[theraputic_uses(Drug_medication(item )) for item in lista],\n",
        "    'drug_warnings':[drug_warnings(Drug_medication(item )) for item in lista],\n",
        "    'drug_tolerence':[drug_tolerence(Drug_medication(item )) for item in lista],\n",
        "    'Ema_drug_info':[Ema_drug_info(Drug_medication(item )) for item in lista]\n",
        "}"
      ],
      "metadata": {
        "id": "svIKJChgG3QU"
      },
      "execution_count": null,
      "outputs": []
    },
    {
      "cell_type": "code",
      "source": [
        "df_2= pd.DataFrame(details_2)"
      ],
      "metadata": {
        "id": "8kxSHFaGG3SN"
      },
      "execution_count": null,
      "outputs": []
    },
    {
      "cell_type": "code",
      "source": [
        ""
      ],
      "metadata": {
        "id": "3ksnZKcHG3Ui"
      },
      "execution_count": null,
      "outputs": []
    },
    {
      "cell_type": "code",
      "source": [
        "details_3={\n",
        "    'name':[item['Record']['RecordTitle'] for item in  lista],\n",
        "    'Toxicity_summary':[Toxicity_summary(Toxicity(item )) for item in lista],\n",
        "    'Hepatotoxicity':[Hepatotoxicity(Toxicity(item )) for item in lista],\n",
        "    'Human_Toxicity_Excerpts':[Human_Toxicity_Excerpts(Toxicity(item )) for item in lista],\n",
        "    'Protein_Binding':[Protein_Binding(Toxicity(item )) for item in lista],\n",
        "    'Interactions':[Interactions(Toxicity(item )) for item in lista],\n",
        "    'Antidote_and_Emergency_Treatment':[Antidote_and_Emergency_Treatment(Toxicity(item )) for item in lista],\n",
        "    'Medical_Surveillance':[Medical_Surveillance(Toxicity(item )) for item in lista],\n",
        "    'Antidote_and_Emergency_Treatment':[Antidote_and_Emergency_Treatment(Toxicity(item )) for item in lista],\n",
        "    'Populations_at_Special_Risk':[Populations_at_Special_Risk(Toxicity(item )) for item in lista],\n",
        "    'Drug_Induced_Liver_Injury':[Drug_Induced_Liver_Injury_2(Toxicity(item )) for item in lista]\n",
        "\n",
        "}"
      ],
      "metadata": {
        "id": "CzFY8cLOTuS2"
      },
      "execution_count": null,
      "outputs": []
    },
    {
      "cell_type": "code",
      "source": [
        "df_3 = pd.DataFrame(details_3)"
      ],
      "metadata": {
        "id": "bEDVtTvFTubw"
      },
      "execution_count": null,
      "outputs": []
    },
    {
      "cell_type": "code",
      "source": [
        "df_1.to_csv('result_1.csv')"
      ],
      "metadata": {
        "id": "74i2gcEbTujD"
      },
      "execution_count": null,
      "outputs": []
    },
    {
      "cell_type": "code",
      "source": [
        "df_2.to_csv('result_2.csv')"
      ],
      "metadata": {
        "id": "QgihDqL9Tund"
      },
      "execution_count": null,
      "outputs": []
    },
    {
      "cell_type": "code",
      "source": [
        "df_3.to_csv('result_3.csv')"
      ],
      "metadata": {
        "id": "5Ezt4d9HTuqO"
      },
      "execution_count": null,
      "outputs": []
    },
    {
      "cell_type": "code",
      "source": [
        ""
      ],
      "metadata": {
        "id": "gStWE0_SPlNj"
      },
      "execution_count": null,
      "outputs": []
    },
    {
      "cell_type": "code",
      "source": [
        ""
      ],
      "metadata": {
        "id": "NLDmqzz3PlP3"
      },
      "execution_count": null,
      "outputs": []
    },
    {
      "cell_type": "code",
      "source": [
        ""
      ],
      "metadata": {
        "id": "NuC9zLZwyn8t"
      },
      "execution_count": null,
      "outputs": []
    }
  ],
  "metadata": {
    "colab": {
      "collapsed_sections": [],
      "name": "Untitled1.ipynb",
      "provenance": []
    },
    "kernelspec": {
      "display_name": "Python 3",
      "name": "python3"
    },
    "language_info": {
      "name": "python"
    }
  },
  "nbformat": 4,
  "nbformat_minor": 0
}